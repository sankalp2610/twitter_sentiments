{
 "cells": [
  {
   "cell_type": "markdown",
   "metadata": {},
   "source": [
    "# Twitter Sentiment Analysis\n",
    "\n",
    "To analyze the sentiment from the extracted tweets, we count the number of positive tweets and negative tweets. As a single positive tweet may hold many positive words, analysis based on total number of positive and negative words in the extracted tweet may not reveal true sentiment of people."
   ]
  },
  {
   "cell_type": "code",
   "execution_count": 1,
   "metadata": {},
   "outputs": [],
   "source": [
    "import time\n",
    "start = time.time()"
   ]
  },
  {
   "cell_type": "code",
   "execution_count": 2,
   "metadata": {},
   "outputs": [],
   "source": [
    "import re"
   ]
  },
  {
   "cell_type": "markdown",
   "metadata": {},
   "source": [
    "Declaring file object 'fp' and 'fn' for positive and negative files respectively."
   ]
  },
  {
   "cell_type": "code",
   "execution_count": 3,
   "metadata": {},
   "outputs": [],
   "source": [
    "fp = open(\"positive.txt\",\"r\")\n",
    "fn = open(\"negative.txt\",\"r\")"
   ]
  },
  {
   "cell_type": "markdown",
   "metadata": {},
   "source": [
    "Storing all the positive words from the positive word text file to 'contentpositive' and negative words from negative words text file in 'contentnegative'"
   ]
  },
  {
   "cell_type": "code",
   "execution_count": 4,
   "metadata": {},
   "outputs": [],
   "source": [
    "contentpositive=fp.read().split()\n",
    "contentnegative=fn.read().split()"
   ]
  },
  {
   "cell_type": "markdown",
   "metadata": {},
   "source": [
    "creating a list, 'contentposneg', for saving all the contentpositive and contentnegative words in it."
   ]
  },
  {
   "cell_type": "code",
   "execution_count": 5,
   "metadata": {},
   "outputs": [],
   "source": [
    "contentposneg = list()\n",
    "contentposneg = contentpositive + contentnegative"
   ]
  },
  {
   "cell_type": "markdown",
   "metadata": {},
   "source": [
    "#### Function to calculate positive and negative tweet"
   ]
  },
  {
   "cell_type": "markdown",
   "metadata": {},
   "source": [
    "<ol>\n",
    "    <li>substituted all the special characters and stored the final string in 'l'</li>\n",
    "    <li>appending the list 'wordsdict' to store the words of the string 'l' word by word</li>\n",
    "    <li>using 'set' function, subtracting 'contentposneg' from 'wordsdict' gives us new set 'neutral with all the neutral words in the tweet\n",
    "    <li>similarly, we get 'setposneg' which holds all the positive and negative words from the tweet. 'setpos' which holds all the positive words and 'setneg' which holds all the negative words.\n",
    "    <li> we compare which set is bigger, positive or negative, and decide if the tweet is positive or negative.\n",
    "        \n",
    "</ol>"
   ]
  },
  {
   "cell_type": "code",
   "execution_count": 6,
   "metadata": {},
   "outputs": [],
   "source": [
    "def analyze(l):\n",
    "    l = re.sub('[!@#$%^&*()_+-\\;–./\\'’|‘]','', l)\n",
    "    #clearing the wordsdict each time the fucntion is called to clear the list of the old elements\n",
    "    wordsdict.clear()\n",
    "    for words in l.split():\n",
    "        wordsdict.append(words)\n",
    "\n",
    "    global total_pos\n",
    "    global total_neg\n",
    "    \n",
    "    neutral = set(wordsdict) - set(contentposneg)\n",
    "    setposneg = set(wordsdict) - set(neutral)\n",
    "    setpos = set(setposneg) - set(contentnegative)\n",
    "    setneg = set(setposneg) - set(setpos)  \n",
    "    \n",
    "    if len(setpos) > len(setneg):\n",
    "        total_pos = total_pos +1\n",
    "    else:\n",
    "        total_neg = total_neg +1\n",
    "\n",
    "#   return(total_pos, total_neg)"
   ]
  },
  {
   "cell_type": "markdown",
   "metadata": {},
   "source": [
    "Opening the file with the extracted tweets and calling the function 'analyze' and passing each tweet to calculate if that tweet is positive or negative."
   ]
  },
  {
   "cell_type": "code",
   "execution_count": 7,
   "metadata": {},
   "outputs": [],
   "source": [
    "total_pos = 0\n",
    "total_neg = 0\n",
    "words = list()\n",
    "wordsdict = list()\n",
    "f = open(\"10yearchallenge.txt\",\"r\")\n",
    "for line in f: #\\n iteration based\n",
    "    (analyze(line))\n",
    "\n",
    "f.close()\n",
    "fp.close()\n",
    "fn.close()"
   ]
  },
  {
   "cell_type": "markdown",
   "metadata": {},
   "source": [
    "#### Result:"
   ]
  },
  {
   "cell_type": "code",
   "execution_count": 8,
   "metadata": {},
   "outputs": [
    {
     "name": "stdout",
     "output_type": "stream",
     "text": [
      "Total Positive tweets 957 :: Total Negative tweets 2443\n",
      "\n",
      "** Sentiment is Negative! **\n"
     ]
    }
   ],
   "source": [
    "print(\"Total Positive tweets\", total_pos, \":: Total Negative tweets\", total_neg)\n",
    "if total_pos>total_neg:\n",
    "    print (\"\\n** Sentiment is Positive! **\")\n",
    "else: print(\"\\n** Sentiment is Negative! **\")"
   ]
  },
  {
   "cell_type": "code",
   "execution_count": 9,
   "metadata": {
    "scrolled": true
   },
   "outputs": [
    {
     "name": "stdout",
     "output_type": "stream",
     "text": [
      "1.365959882736206\n"
     ]
    }
   ],
   "source": [
    "end = time.time()\n",
    "end-=start\n",
    "print(end)"
   ]
  }
 ],
 "metadata": {
  "kernelspec": {
   "display_name": "Python 3",
   "language": "python",
   "name": "python3"
  },
  "language_info": {
   "codemirror_mode": {
    "name": "ipython",
    "version": 3
   },
   "file_extension": ".py",
   "mimetype": "text/x-python",
   "name": "python",
   "nbconvert_exporter": "python",
   "pygments_lexer": "ipython3",
   "version": "3.7.1"
  }
 },
 "nbformat": 4,
 "nbformat_minor": 2
}
